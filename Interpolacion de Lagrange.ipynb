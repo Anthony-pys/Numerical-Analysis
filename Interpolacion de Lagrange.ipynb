{
 "cells": [
  {
   "cell_type": "code",
   "execution_count": 2,
   "metadata": {},
   "outputs": [],
   "source": [
    "import numpy as np\n",
    "import matplotlib.pyplot as plt\n",
    "import sympy as sym"
   ]
  },
  {
   "cell_type": "code",
   "execution_count": 3,
   "metadata": {},
   "outputs": [],
   "source": [
    "#Data entry\n",
    "xi = np.array([0, np.pi/2, np.pi, 3*np.pi/2, 2*np.pi]) #Points in x\n",
    "fi = np.array([1, 0, -1, 0 , 1]) #Points in y"
   ]
  },
  {
   "cell_type": "code",
   "execution_count": 4,
   "metadata": {},
   "outputs": [],
   "source": [
    "#Algorithm\n",
    "\n",
    "n = len(xi) #Number of data in xi\n",
    "x = sym.Symbol('x') #To get the expression of the polynomial\n",
    "polyn = 0 \n",
    "\n",
    "for i in range(0,n,1):\n",
    "    numerator = 1\n",
    "    denominator = 1\n",
    "    for j in range(0,n,1):\n",
    "        if i!=j:\n",
    "            numerator = numerator*(x-xi[j])\n",
    "            denominator = denominator*(xi[i]-xi[j])\n",
    "        term = (numerator/denominator)*fi[i]\n",
    "    polyn = polyn + term"
   ]
  },
  {
   "cell_type": "code",
   "execution_count": 51,
   "metadata": {},
   "outputs": [
    {
     "data": {
      "text/latex": [
       "$\\displaystyle - 0.0273759526791582 x^{4} + 0.344016367287461 x^{3} - 1.1483067479465 x^{2} + 0.424413181578388 x + 1.0$"
      ],
      "text/plain": [
       "-0.0273759526791582*x**4 + 0.344016367287461*x**3 - 1.1483067479465*x**2 + 0.424413181578388*x + 1.0"
      ]
     },
     "execution_count": 51,
     "metadata": {},
     "output_type": "execute_result"
    }
   ],
   "source": [
    "#Output function\n",
    "#To simplify\n",
    "polynsimple = polyn.expand()\n",
    "polynsimple"
   ]
  },
  {
   "cell_type": "code",
   "execution_count": 49,
   "metadata": {},
   "outputs": [
    {
     "data": {
      "image/png": "[encoded data removed]",
      "text/plain": [
       "<Figure size 432x288 with 1 Axes>"
      ]
     },
     "metadata": {
      "needs_background": "light"
     },
     "output_type": "display_data"
    }
   ],
   "source": [
    "#Vectors to graph\n",
    "px = sym.lambdify('x',polynsimple) #Transform the result obtained which isn't a function, into a function and \n",
    "#allows to calculate specific values\n",
    "\n",
    "a = np.min(xi)\n",
    "b = np.max(xi)\n",
    "pxi = np.linspace(a, b, 100)\n",
    "pfi = px(pxi)\n",
    "\n",
    "#Graph\n",
    "fig, ax = plt.subplots()\n",
    "ax.grid()\n",
    "ax.set_ylabel('P(x)')\n",
    "ax.set_xlabel('x')\n",
    "plt.plot(xi,fi,'o')\n",
    "plt.plot(pxi, pfi)\n",
    "plt.show()"
   ]
  },
  {
   "cell_type": "code",
   "execution_count": null,
   "metadata": {},
   "outputs": [],
   "source": []
  }
 ],
 "metadata": {
  "kernelspec": {
   "display_name": "Python 3",
   "language": "python",
   "name": "python3"
  },
  "language_info": {
   "codemirror_mode": {
    "name": "ipython",
    "version": 3
   },
   "file_extension": ".py",
   "mimetype": "text/x-python",
   "name": "python",
   "nbconvert_exporter": "python",
   "pygments_lexer": "ipython3",
   "version": "3.8.3"
  }
 },
 "nbformat": 4,
 "nbformat_minor": 4
}
