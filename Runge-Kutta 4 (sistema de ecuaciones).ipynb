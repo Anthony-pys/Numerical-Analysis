{
 "cells": [
  {
   "cell_type": "code",
   "execution_count": 198,
   "metadata": {},
   "outputs": [],
   "source": [
    "import numpy as np\n",
    "import matplotlib.pyplot as plt\n",
    "import seaborn as sns"
   ]
  },
  {
   "cell_type": "markdown",
   "metadata": {},
   "source": [
    "To approximate the solution of the mth-order system of initil value \n",
    "\n",
    "$ u'_{j}  = f_{j} (t,u_{1}, u_{2}, ..., u_{m}) ,\\  a\\leq t \\leq b ,\\ with  \\ u_{j}(a) = \\alpha_{j}$"
   ]
  },
  {
   "cell_type": "markdown",
   "metadata": {},
   "source": [
    "Using a simple pendulum as an example. The langranian function is given by:\n",
    "\n",
    "$$\n",
    "L = T - U\n",
    "$$\n",
    "where:\n",
    "\n",
    "    T: kinetic energy\n",
    "\n",
    "    U: potential energy\n",
    "    \n",
    "So, for a simple pendulum we have:\n",
    "\n",
    "$$\n",
    "L = \\frac{1}{2}ml^2 \\dot{\\theta}^2 + mgl\\cos{\\theta}\n",
    "$$\n",
    "\n",
    "Using the Euler-Lagrange equation, we can obtain the equation of motion for our system:\n",
    "\n",
    "$$\n",
    "\\ddot{\\theta} = - \\frac{g}{l}\\sin{\\theta}\n",
    "$$\n",
    "\n",
    "With the first approximation of $sin(\\theta) \\approx \\theta$\n",
    "$$\n",
    "\\ddot{\\theta(t)} = -\\frac{g}{l}\\theta(t)\n",
    "$$"
   ]
  },
  {
   "cell_type": "markdown",
   "metadata": {},
   "source": [
    "With these equation, we can using a substitution to find an approximation to $\\theta(t)$. So:\n",
    "\n",
    "$$\n",
    "u_1(t) = \\theta(t) \\\\ u_2(t) = \\dot{\\theta(t)} \n",
    "$$\n",
    "\n",
    "Derivating each equation:\n",
    "\n",
    "$$\n",
    "\\dot{u_1(t)} = \\dot{\\theta(t)} = u_2(t)\\\\ \\dot{u_2(t)} = \\ddot{\\theta(t)} = -\\frac{g}{l}\\theta = -\\frac{g}{l}u_1(t)\n",
    "$$"
   ]
  },
  {
   "cell_type": "code",
   "execution_count": 249,
   "metadata": {},
   "outputs": [],
   "source": [
    "# Set the functions\n",
    "\n",
    "\n",
    "#t : number of points in the horizontal axis\n",
    "# u1 : solution of the position (in this case)\n",
    "# u2 : solution of the velocity (in this case)\n",
    "\n",
    "\n",
    "\n",
    "def F1(t,u1,u2):  \n",
    "    return u2\n",
    "\n",
    "def F2(t,u1,u2):\n",
    "    \n",
    "    # l : length of the string\n",
    "    # g : aceleration due to gravity\n",
    "    \n",
    "    l = 1\n",
    "    g = 9.8\n",
    "    \n",
    "    return -g/l*u1"
   ]
  },
  {
   "cell_type": "code",
   "execution_count": 334,
   "metadata": {},
   "outputs": [],
   "source": [
    "def RK4des(a,b,N):\n",
    "    #Set the initial conditions\n",
    "    # w1 : u_1(0) initial condition to angular position\n",
    "    # w2 : u_2(0) initial condition to angular velocity\n",
    "    \n",
    "    w1 = np.pi/2    \n",
    "    w2 = 0      \n",
    "    h = (b-a)/N\n",
    "    \n",
    "    \n",
    "    tpoints = np.arange(a,b,h)\n",
    "    u1points = []\n",
    "    u2points = []\n",
    "    \n",
    "    \n",
    "    for t in tpoints:\n",
    "        u1points.append(w1)\n",
    "        u2points.append(w2)\n",
    "        \n",
    "        m1 = h*F1(t,w1,w2) #k11\n",
    "        k1 = h*F2(t,w1,w2) #k12\n",
    "        \n",
    "        m2 = h*F1(t + h/2, w1 + m1/2, w2 + k1/2 ) #k21\n",
    "        k2 = h*F2(t + h/2, w1 + k1/2, w2 + k1/2) #k22\n",
    "        \n",
    "        m3 = h*F1(t + h/2, w1 + m2/2, w2 + k2/2) #k31\n",
    "        k3 = h*F2(t + h/2, w1 + k2/2, w2 + k2/2) #k32\n",
    "        \n",
    "        m4 = h*F1(t + h, w1 + m3, w2 + k3) #k41\n",
    "        k4 = h*F2(t + h, w1 + m3, w2 + k3) #k42\n",
    "        \n",
    "        w1 += (m1 + 2*m2 + 2*m3 + m4)/6\n",
    "        w2 += (k1 + 2*k2 + 2*k3 + k4)/6\n",
    "    \n",
    "    \n",
    "    #Plotting the graph\n",
    "    sns.set_style('whitegrid')\n",
    "    plt.plot(tpoints, u1points)\n",
    "    plt.plot(tpoints, u2points)\n",
    "    #plt.plot(tpoints,np.sin(tpoints)/np.pi) #analytical solution\n",
    "    plt.xlabel('t')\n",
    "    plt.ylabel('y')\n",
    "    plt.legend(['u1 = Position', 'u2 = Velocity'])\n"
   ]
  },
  {
   "cell_type": "code",
   "execution_count": 336,
   "metadata": {},
   "outputs": [
    {
     "data": {
      "image/png": "[encoded data removed]",
      "text/plain": [
       "<Figure size 432x288 with 1 Axes>"
      ]
     },
     "metadata": {},
     "output_type": "display_data"
    }
   ],
   "source": [
    "RK4des(0,10,1000)"
   ]
  },
  {
   "cell_type": "code",
   "execution_count": null,
   "metadata": {},
   "outputs": [],
   "source": []
  },
  {
   "cell_type": "code",
   "execution_count": null,
   "metadata": {},
   "outputs": [],
   "source": []
  },
  {
   "cell_type": "code",
   "execution_count": null,
   "metadata": {},
   "outputs": [],
   "source": []
  }
 ],
 "metadata": {
  "kernelspec": {
   "display_name": "Python 3",
   "language": "python",
   "name": "python3"
  },
  "language_info": {
   "codemirror_mode": {
    "name": "ipython",
    "version": 3
   },
   "file_extension": ".py",
   "mimetype": "text/x-python",
   "name": "python",
   "nbconvert_exporter": "python",
   "pygments_lexer": "ipython3",
   "version": "3.8.3"
  }
 },
 "nbformat": 4,
 "nbformat_minor": 4
}
