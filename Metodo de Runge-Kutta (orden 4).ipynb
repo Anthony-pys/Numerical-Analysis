{
 "cells": [
  {
   "cell_type": "code",
   "execution_count": 1,
   "metadata": {},
   "outputs": [],
   "source": [
    "import numpy as np\n",
    "import matplotlib.pyplot as plt"
   ]
  },
  {
   "cell_type": "markdown",
   "metadata": {},
   "source": [
    "To aproximate the function $y' = f(t,y)$ \n",
    ",where\n",
    "$a\\leq t \\leq b$ and $y(a) = \\alpha$ "
   ]
  },
  {
   "cell_type": "code",
   "execution_count": 2,
   "metadata": {},
   "outputs": [],
   "source": [
    "def f(t,y):\n",
    "    return 1+ y/t"
   ]
  },
  {
   "cell_type": "code",
   "execution_count": 3,
   "metadata": {},
   "outputs": [],
   "source": [
    "#Initial conditions\n",
    "tsol = [1] \n",
    "wsol = [2]\n",
    "\n",
    "#Definition of RK4 function\n",
    "def RK4(a,b,N,alpha):\n",
    "    \n",
    "    h = (b-a)/N\n",
    "    t = a\n",
    "    w = alpha\n",
    "    \n",
    "    \n",
    "    for i in range(1,N+1):\n",
    "         \n",
    "        K1 = h*f(t,w)\n",
    "        K2 = h*f(t+h/2 , w+K1/2)\n",
    "        K3 = h*f(t+h/2 , w+K2/2)\n",
    "        K4 = h*f(t+h , w+K3)\n",
    "        \n",
    "        w = w + (K1+2*K2+2*K3+K4)/6\n",
    "        t = a + i*h\n",
    "        \n",
    "        tsol.append(t)\n",
    "        wsol.append(w)\n",
    "\n",
    "        \n",
    "        #print(\" t     \", \"w\", end = '\\n')\n",
    "        #print('%.1f'%t , '%.4f'%w , sep = '  ')\n"
   ]
  },
  {
   "cell_type": "code",
   "execution_count": 4,
   "metadata": {},
   "outputs": [],
   "source": [
    "RK4(1, 2, 10, 2)"
   ]
  },
  {
   "cell_type": "code",
   "execution_count": 5,
   "metadata": {},
   "outputs": [],
   "source": [
    "tim = np.linspace(1,2,10)\n",
    "def fun(tim):\n",
    "    return tim*np.log(tim) + 2*tim"
   ]
  },
  {
   "cell_type": "code",
   "execution_count": 6,
   "metadata": {},
   "outputs": [
    {
     "data": {
      "image/png": "[encoded data removed]",
      "text/plain": [
       "<Figure size 432x288 with 1 Axes>"
      ]
     },
     "metadata": {
      "needs_background": "light"
     },
     "output_type": "display_data"
    }
   ],
   "source": [
    "plt.plot(tsol,wsol, 's--')\n",
    "plt.plot(tim,fun(tim))\n",
    "\n",
    "plt.xlabel('t')\n",
    "plt.ylabel('y')\n",
    "\n",
    "plt.legend(['Aproximation','Exact solution']);"
   ]
  }
 ],
 "metadata": {
  "kernelspec": {
   "display_name": "Python 3",
   "language": "python",
   "name": "python3"
  },
  "language_info": {
   "codemirror_mode": {
    "name": "ipython",
    "version": 3
   },
   "file_extension": ".py",
   "mimetype": "text/x-python",
   "name": "python",
   "nbconvert_exporter": "python",
   "pygments_lexer": "ipython3",
   "version": "3.8.3"
  }
 },
 "nbformat": 4,
 "nbformat_minor": 4
}
